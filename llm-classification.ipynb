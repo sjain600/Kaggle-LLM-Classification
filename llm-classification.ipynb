{
 "cells": [
  {
   "cell_type": "code",
   "execution_count": 1,
   "id": "df3a8904",
   "metadata": {
    "_cell_guid": "b1076dfc-b9ad-4769-8c92-a6c4dae69d19",
    "_uuid": "8f2839f25d086af736a60e9eeb907d3b93b6e0e5",
    "execution": {
     "iopub.execute_input": "2025-05-15T06:01:39.182780Z",
     "iopub.status.busy": "2025-05-15T06:01:39.182407Z",
     "iopub.status.idle": "2025-05-15T06:02:01.016814Z",
     "shell.execute_reply": "2025-05-15T06:02:01.015823Z"
    },
    "papermill": {
     "duration": 21.842672,
     "end_time": "2025-05-15T06:02:01.018710",
     "exception": false,
     "start_time": "2025-05-15T06:01:39.176038",
     "status": "completed"
    },
    "tags": []
   },
   "outputs": [
    {
     "name": "stderr",
     "output_type": "stream",
     "text": [
      "2025-05-15 06:01:45.879520: E external/local_xla/xla/stream_executor/cuda/cuda_fft.cc:477] Unable to register cuFFT factory: Attempting to register factory for plugin cuFFT when one has already been registered\n",
      "WARNING: All log messages before absl::InitializeLog() is called are written to STDERR\n",
      "E0000 00:00:1747288906.135590      13 cuda_dnn.cc:8310] Unable to register cuDNN factory: Attempting to register factory for plugin cuDNN when one has already been registered\n",
      "E0000 00:00:1747288906.216197      13 cuda_blas.cc:1418] Unable to register cuBLAS factory: Attempting to register factory for plugin cuBLAS when one has already been registered\n"
     ]
    },
    {
     "name": "stdout",
     "output_type": "stream",
     "text": [
      "/kaggle/input/llm-classification-finetuning/sample_submission.csv\n",
      "/kaggle/input/llm-classification-finetuning/train.csv\n",
      "/kaggle/input/llm-classification-finetuning/test.csv\n"
     ]
    }
   ],
   "source": [
    "# This Python 3 environment comes with many helpful analytics libraries installed\n",
    "# It is defined by the kaggle/python Docker image: https://github.com/kaggle/docker-python\n",
    "# For example, here's several helpful packages to load\n",
    "\n",
    "import numpy as np # linear algebra\n",
    "import pandas as pd # data processing, CSV file I/O (e.g. pd.read_csv)\n",
    "import nltk\n",
    "from nltk.corpus import stopwords\n",
    "from nltk.stem.snowball import PorterStemmer\n",
    "import string\n",
    "import re\n",
    "from tensorflow.keras.preprocessing.text import Tokenizer\n",
    "\n",
    "# Input data files are available in the read-only \"../input/\" directory\n",
    "# For example, running this (by clicking run or pressing Shift+Enter) will list all files under the input directory\n",
    "\n",
    "import os\n",
    "for dirname, _, filenames in os.walk('/kaggle/input'):\n",
    "    for filename in filenames:\n",
    "        print(os.path.join(dirname, filename))\n",
    "\n",
    "\n",
    "# You can write up to 20GB to the current directory (/kaggle/working/) that gets preserved as output when you create a version using \"Save & Run All\" \n",
    "# You can also write temporary files to /kaggle/temp/, but they won't be saved outside of the current session"
   ]
  },
  {
   "cell_type": "code",
   "execution_count": 2,
   "id": "6cca93cf",
   "metadata": {
    "execution": {
     "iopub.execute_input": "2025-05-15T06:02:01.028524Z",
     "iopub.status.busy": "2025-05-15T06:02:01.027858Z",
     "iopub.status.idle": "2025-05-15T06:02:05.488162Z",
     "shell.execute_reply": "2025-05-15T06:02:05.486873Z"
    },
    "papermill": {
     "duration": 4.467124,
     "end_time": "2025-05-15T06:02:05.490248",
     "exception": false,
     "start_time": "2025-05-15T06:02:01.023124",
     "status": "completed"
    },
    "tags": []
   },
   "outputs": [],
   "source": [
    "train = pd.read_csv('/kaggle/input/llm-classification-finetuning/train.csv', index_col='id')\n",
    "test = pd.read_csv('/kaggle/input/llm-classification-finetuning/test.csv', index_col='id')"
   ]
  },
  {
   "cell_type": "code",
   "execution_count": 3,
   "id": "a5bb80ba",
   "metadata": {
    "execution": {
     "iopub.execute_input": "2025-05-15T06:02:05.499349Z",
     "iopub.status.busy": "2025-05-15T06:02:05.498985Z",
     "iopub.status.idle": "2025-05-15T06:02:05.505958Z",
     "shell.execute_reply": "2025-05-15T06:02:05.504971Z"
    },
    "papermill": {
     "duration": 0.013602,
     "end_time": "2025-05-15T06:02:05.507860",
     "exception": false,
     "start_time": "2025-05-15T06:02:05.494258",
     "status": "completed"
    },
    "tags": []
   },
   "outputs": [
    {
     "data": {
      "text/plain": [
       "(57477, 8)"
      ]
     },
     "execution_count": 3,
     "metadata": {},
     "output_type": "execute_result"
    }
   ],
   "source": [
    "train.shape"
   ]
  },
  {
   "cell_type": "code",
   "execution_count": 4,
   "id": "e5351079",
   "metadata": {
    "execution": {
     "iopub.execute_input": "2025-05-15T06:02:05.517342Z",
     "iopub.status.busy": "2025-05-15T06:02:05.516811Z",
     "iopub.status.idle": "2025-05-15T06:02:05.523251Z",
     "shell.execute_reply": "2025-05-15T06:02:05.522343Z"
    },
    "papermill": {
     "duration": 0.012889,
     "end_time": "2025-05-15T06:02:05.524921",
     "exception": false,
     "start_time": "2025-05-15T06:02:05.512032",
     "status": "completed"
    },
    "tags": []
   },
   "outputs": [
    {
     "data": {
      "text/plain": [
       "(3, 3)"
      ]
     },
     "execution_count": 4,
     "metadata": {},
     "output_type": "execute_result"
    }
   ],
   "source": [
    "test.shape"
   ]
  },
  {
   "cell_type": "code",
   "execution_count": 5,
   "id": "979e9d46",
   "metadata": {
    "execution": {
     "iopub.execute_input": "2025-05-15T06:02:05.534508Z",
     "iopub.status.busy": "2025-05-15T06:02:05.534158Z",
     "iopub.status.idle": "2025-05-15T06:02:05.557940Z",
     "shell.execute_reply": "2025-05-15T06:02:05.556913Z"
    },
    "papermill": {
     "duration": 0.030386,
     "end_time": "2025-05-15T06:02:05.559470",
     "exception": false,
     "start_time": "2025-05-15T06:02:05.529084",
     "status": "completed"
    },
    "tags": []
   },
   "outputs": [
    {
     "data": {
      "text/html": [
       "<div>\n",
       "<style scoped>\n",
       "    .dataframe tbody tr th:only-of-type {\n",
       "        vertical-align: middle;\n",
       "    }\n",
       "\n",
       "    .dataframe tbody tr th {\n",
       "        vertical-align: top;\n",
       "    }\n",
       "\n",
       "    .dataframe thead th {\n",
       "        text-align: right;\n",
       "    }\n",
       "</style>\n",
       "<table border=\"1\" class=\"dataframe\">\n",
       "  <thead>\n",
       "    <tr style=\"text-align: right;\">\n",
       "      <th></th>\n",
       "      <th>model_a</th>\n",
       "      <th>model_b</th>\n",
       "      <th>prompt</th>\n",
       "      <th>response_a</th>\n",
       "      <th>response_b</th>\n",
       "      <th>winner_model_a</th>\n",
       "      <th>winner_model_b</th>\n",
       "      <th>winner_tie</th>\n",
       "    </tr>\n",
       "    <tr>\n",
       "      <th>id</th>\n",
       "      <th></th>\n",
       "      <th></th>\n",
       "      <th></th>\n",
       "      <th></th>\n",
       "      <th></th>\n",
       "      <th></th>\n",
       "      <th></th>\n",
       "      <th></th>\n",
       "    </tr>\n",
       "  </thead>\n",
       "  <tbody>\n",
       "    <tr>\n",
       "      <th>30192</th>\n",
       "      <td>gpt-4-1106-preview</td>\n",
       "      <td>gpt-4-0613</td>\n",
       "      <td>[\"Is it morally right to try to have a certain...</td>\n",
       "      <td>[\"The question of whether it is morally right ...</td>\n",
       "      <td>[\"As an AI, I don't have personal beliefs or o...</td>\n",
       "      <td>1</td>\n",
       "      <td>0</td>\n",
       "      <td>0</td>\n",
       "    </tr>\n",
       "    <tr>\n",
       "      <th>53567</th>\n",
       "      <td>koala-13b</td>\n",
       "      <td>gpt-4-0613</td>\n",
       "      <td>[\"What is the difference between marriage lice...</td>\n",
       "      <td>[\"A marriage license is a legal document that ...</td>\n",
       "      <td>[\"A marriage license and a marriage certificat...</td>\n",
       "      <td>0</td>\n",
       "      <td>1</td>\n",
       "      <td>0</td>\n",
       "    </tr>\n",
       "    <tr>\n",
       "      <th>65089</th>\n",
       "      <td>gpt-3.5-turbo-0613</td>\n",
       "      <td>mistral-medium</td>\n",
       "      <td>[\"explain function calling. how would you call...</td>\n",
       "      <td>[\"Function calling is the process of invoking ...</td>\n",
       "      <td>[\"Function calling is the process of invoking ...</td>\n",
       "      <td>0</td>\n",
       "      <td>0</td>\n",
       "      <td>1</td>\n",
       "    </tr>\n",
       "    <tr>\n",
       "      <th>96401</th>\n",
       "      <td>llama-2-13b-chat</td>\n",
       "      <td>mistral-7b-instruct</td>\n",
       "      <td>[\"How can I create a test set for a very rare ...</td>\n",
       "      <td>[\"Creating a test set for a very rare category...</td>\n",
       "      <td>[\"When building a classifier for a very rare c...</td>\n",
       "      <td>1</td>\n",
       "      <td>0</td>\n",
       "      <td>0</td>\n",
       "    </tr>\n",
       "    <tr>\n",
       "      <th>198779</th>\n",
       "      <td>koala-13b</td>\n",
       "      <td>gpt-3.5-turbo-0314</td>\n",
       "      <td>[\"What is the best way to travel from Tel-Aviv...</td>\n",
       "      <td>[\"The best way to travel from Tel Aviv to Jeru...</td>\n",
       "      <td>[\"The best way to travel from Tel-Aviv to Jeru...</td>\n",
       "      <td>0</td>\n",
       "      <td>1</td>\n",
       "      <td>0</td>\n",
       "    </tr>\n",
       "    <tr>\n",
       "      <th>292873</th>\n",
       "      <td>vicuna-13b</td>\n",
       "      <td>gpt-4-0314</td>\n",
       "      <td>[\"Construct a rap battle, in the style of Epic...</td>\n",
       "      <td>[\"[Zeus]\\nYo, it's the king of the gods on the...</td>\n",
       "      <td>[\"(Verse 1 - Zeus)\\n\\nI'm the king of the gods...</td>\n",
       "      <td>0</td>\n",
       "      <td>1</td>\n",
       "      <td>0</td>\n",
       "    </tr>\n",
       "    <tr>\n",
       "      <th>313413</th>\n",
       "      <td>mixtral-8x7b-instruct-v0.1</td>\n",
       "      <td>vicuna-13b</td>\n",
       "      <td>[\"Why water is not used in bath tub?\"]</td>\n",
       "      <td>[\"Water is actually used in a bath tub. A bath...</td>\n",
       "      <td>[\"Water is not used in a bath tub because it i...</td>\n",
       "      <td>1</td>\n",
       "      <td>0</td>\n",
       "      <td>0</td>\n",
       "    </tr>\n",
       "    <tr>\n",
       "      <th>370945</th>\n",
       "      <td>gemini-pro</td>\n",
       "      <td>claude-2.0</td>\n",
       "      <td>[\"\\\"Bacteria is life on Mars but a heartbeat i...</td>\n",
       "      <td>[\"Dune\"]</td>\n",
       "      <td>[\"This quote seems to be referencing the debat...</td>\n",
       "      <td>0</td>\n",
       "      <td>1</td>\n",
       "      <td>0</td>\n",
       "    </tr>\n",
       "    <tr>\n",
       "      <th>441448</th>\n",
       "      <td>gpt-3.5-turbo-0613</td>\n",
       "      <td>vicuna-13b</td>\n",
       "      <td>[\"translate to russian the followig sentence  ...</td>\n",
       "      <td>[\"\\u0411\\u043e\\u043b\\u044c\\u0448\\u0438\\u0435 \\...</td>\n",
       "      <td>[\"\\u0411\\u043e\\u043b\\u044c\\u0448\\u0438\\u0435 \\...</td>\n",
       "      <td>0</td>\n",
       "      <td>1</td>\n",
       "      <td>0</td>\n",
       "    </tr>\n",
       "    <tr>\n",
       "      <th>481524</th>\n",
       "      <td>gpt-4-0314</td>\n",
       "      <td>gpt-3.5-turbo-0613</td>\n",
       "      <td>[\"From now, you *always* have to talk as if yo...</td>\n",
       "      <td>[\"Hewwo! OwO I'm an AI assistant, here to hewp...</td>\n",
       "      <td>[\"Hewwo! I'm your new helpful assistant, owo! ...</td>\n",
       "      <td>0</td>\n",
       "      <td>1</td>\n",
       "      <td>0</td>\n",
       "    </tr>\n",
       "  </tbody>\n",
       "</table>\n",
       "</div>"
      ],
      "text/plain": [
       "                           model_a              model_b  \\\n",
       "id                                                        \n",
       "30192           gpt-4-1106-preview           gpt-4-0613   \n",
       "53567                    koala-13b           gpt-4-0613   \n",
       "65089           gpt-3.5-turbo-0613       mistral-medium   \n",
       "96401             llama-2-13b-chat  mistral-7b-instruct   \n",
       "198779                   koala-13b   gpt-3.5-turbo-0314   \n",
       "292873                  vicuna-13b           gpt-4-0314   \n",
       "313413  mixtral-8x7b-instruct-v0.1           vicuna-13b   \n",
       "370945                  gemini-pro           claude-2.0   \n",
       "441448          gpt-3.5-turbo-0613           vicuna-13b   \n",
       "481524                  gpt-4-0314   gpt-3.5-turbo-0613   \n",
       "\n",
       "                                                   prompt  \\\n",
       "id                                                          \n",
       "30192   [\"Is it morally right to try to have a certain...   \n",
       "53567   [\"What is the difference between marriage lice...   \n",
       "65089   [\"explain function calling. how would you call...   \n",
       "96401   [\"How can I create a test set for a very rare ...   \n",
       "198779  [\"What is the best way to travel from Tel-Aviv...   \n",
       "292873  [\"Construct a rap battle, in the style of Epic...   \n",
       "313413             [\"Why water is not used in bath tub?\"]   \n",
       "370945  [\"\\\"Bacteria is life on Mars but a heartbeat i...   \n",
       "441448  [\"translate to russian the followig sentence  ...   \n",
       "481524  [\"From now, you *always* have to talk as if yo...   \n",
       "\n",
       "                                               response_a  \\\n",
       "id                                                          \n",
       "30192   [\"The question of whether it is morally right ...   \n",
       "53567   [\"A marriage license is a legal document that ...   \n",
       "65089   [\"Function calling is the process of invoking ...   \n",
       "96401   [\"Creating a test set for a very rare category...   \n",
       "198779  [\"The best way to travel from Tel Aviv to Jeru...   \n",
       "292873  [\"[Zeus]\\nYo, it's the king of the gods on the...   \n",
       "313413  [\"Water is actually used in a bath tub. A bath...   \n",
       "370945                                           [\"Dune\"]   \n",
       "441448  [\"\\u0411\\u043e\\u043b\\u044c\\u0448\\u0438\\u0435 \\...   \n",
       "481524  [\"Hewwo! OwO I'm an AI assistant, here to hewp...   \n",
       "\n",
       "                                               response_b  winner_model_a  \\\n",
       "id                                                                          \n",
       "30192   [\"As an AI, I don't have personal beliefs or o...               1   \n",
       "53567   [\"A marriage license and a marriage certificat...               0   \n",
       "65089   [\"Function calling is the process of invoking ...               0   \n",
       "96401   [\"When building a classifier for a very rare c...               1   \n",
       "198779  [\"The best way to travel from Tel-Aviv to Jeru...               0   \n",
       "292873  [\"(Verse 1 - Zeus)\\n\\nI'm the king of the gods...               0   \n",
       "313413  [\"Water is not used in a bath tub because it i...               1   \n",
       "370945  [\"This quote seems to be referencing the debat...               0   \n",
       "441448  [\"\\u0411\\u043e\\u043b\\u044c\\u0448\\u0438\\u0435 \\...               0   \n",
       "481524  [\"Hewwo! I'm your new helpful assistant, owo! ...               0   \n",
       "\n",
       "        winner_model_b  winner_tie  \n",
       "id                                  \n",
       "30192                0           0  \n",
       "53567                1           0  \n",
       "65089                0           1  \n",
       "96401                0           0  \n",
       "198779               1           0  \n",
       "292873               1           0  \n",
       "313413               0           0  \n",
       "370945               1           0  \n",
       "441448               1           0  \n",
       "481524               1           0  "
      ]
     },
     "execution_count": 5,
     "metadata": {},
     "output_type": "execute_result"
    }
   ],
   "source": [
    "train.head(10)"
   ]
  },
  {
   "cell_type": "code",
   "execution_count": 6,
   "id": "18b8bc07",
   "metadata": {
    "execution": {
     "iopub.execute_input": "2025-05-15T06:02:05.569386Z",
     "iopub.status.busy": "2025-05-15T06:02:05.569086Z",
     "iopub.status.idle": "2025-05-15T06:02:05.578760Z",
     "shell.execute_reply": "2025-05-15T06:02:05.577871Z"
    },
    "papermill": {
     "duration": 0.016445,
     "end_time": "2025-05-15T06:02:05.580417",
     "exception": false,
     "start_time": "2025-05-15T06:02:05.563972",
     "status": "completed"
    },
    "tags": []
   },
   "outputs": [
    {
     "data": {
      "text/html": [
       "<div>\n",
       "<style scoped>\n",
       "    .dataframe tbody tr th:only-of-type {\n",
       "        vertical-align: middle;\n",
       "    }\n",
       "\n",
       "    .dataframe tbody tr th {\n",
       "        vertical-align: top;\n",
       "    }\n",
       "\n",
       "    .dataframe thead th {\n",
       "        text-align: right;\n",
       "    }\n",
       "</style>\n",
       "<table border=\"1\" class=\"dataframe\">\n",
       "  <thead>\n",
       "    <tr style=\"text-align: right;\">\n",
       "      <th></th>\n",
       "      <th>prompt</th>\n",
       "      <th>response_a</th>\n",
       "      <th>response_b</th>\n",
       "    </tr>\n",
       "    <tr>\n",
       "      <th>id</th>\n",
       "      <th></th>\n",
       "      <th></th>\n",
       "      <th></th>\n",
       "    </tr>\n",
       "  </thead>\n",
       "  <tbody>\n",
       "    <tr>\n",
       "      <th>136060</th>\n",
       "      <td>[\"I have three oranges today, I ate an orange ...</td>\n",
       "      <td>[\"You have two oranges today.\"]</td>\n",
       "      <td>[\"You still have three oranges. Eating an oran...</td>\n",
       "    </tr>\n",
       "    <tr>\n",
       "      <th>211333</th>\n",
       "      <td>[\"You are a mediator in a heated political deb...</td>\n",
       "      <td>[\"Thank you for sharing the details of the sit...</td>\n",
       "      <td>[\"Mr Reddy and Ms Blue both have valid points ...</td>\n",
       "    </tr>\n",
       "    <tr>\n",
       "      <th>1233961</th>\n",
       "      <td>[\"How to initialize the classification head wh...</td>\n",
       "      <td>[\"When you want to initialize the classificati...</td>\n",
       "      <td>[\"To initialize the classification head when p...</td>\n",
       "    </tr>\n",
       "  </tbody>\n",
       "</table>\n",
       "</div>"
      ],
      "text/plain": [
       "                                                    prompt  \\\n",
       "id                                                           \n",
       "136060   [\"I have three oranges today, I ate an orange ...   \n",
       "211333   [\"You are a mediator in a heated political deb...   \n",
       "1233961  [\"How to initialize the classification head wh...   \n",
       "\n",
       "                                                response_a  \\\n",
       "id                                                           \n",
       "136060                     [\"You have two oranges today.\"]   \n",
       "211333   [\"Thank you for sharing the details of the sit...   \n",
       "1233961  [\"When you want to initialize the classificati...   \n",
       "\n",
       "                                                response_b  \n",
       "id                                                          \n",
       "136060   [\"You still have three oranges. Eating an oran...  \n",
       "211333   [\"Mr Reddy and Ms Blue both have valid points ...  \n",
       "1233961  [\"To initialize the classification head when p...  "
      ]
     },
     "execution_count": 6,
     "metadata": {},
     "output_type": "execute_result"
    }
   ],
   "source": [
    "test.head()"
   ]
  },
  {
   "cell_type": "code",
   "execution_count": 7,
   "id": "d234e28d",
   "metadata": {
    "execution": {
     "iopub.execute_input": "2025-05-15T06:02:05.591308Z",
     "iopub.status.busy": "2025-05-15T06:02:05.591003Z",
     "iopub.status.idle": "2025-05-15T06:02:05.642955Z",
     "shell.execute_reply": "2025-05-15T06:02:05.641778Z"
    },
    "papermill": {
     "duration": 0.059513,
     "end_time": "2025-05-15T06:02:05.644705",
     "exception": false,
     "start_time": "2025-05-15T06:02:05.585192",
     "status": "completed"
    },
    "tags": []
   },
   "outputs": [
    {
     "name": "stdout",
     "output_type": "stream",
     "text": [
      "<class 'pandas.core.frame.DataFrame'>\n",
      "Index: 57477 entries, 30192 to 4294947231\n",
      "Data columns (total 8 columns):\n",
      " #   Column          Non-Null Count  Dtype \n",
      "---  ------          --------------  ----- \n",
      " 0   model_a         57477 non-null  object\n",
      " 1   model_b         57477 non-null  object\n",
      " 2   prompt          57477 non-null  object\n",
      " 3   response_a      57477 non-null  object\n",
      " 4   response_b      57477 non-null  object\n",
      " 5   winner_model_a  57477 non-null  int64 \n",
      " 6   winner_model_b  57477 non-null  int64 \n",
      " 7   winner_tie      57477 non-null  int64 \n",
      "dtypes: int64(3), object(5)\n",
      "memory usage: 3.9+ MB\n"
     ]
    }
   ],
   "source": [
    "train.info()"
   ]
  },
  {
   "cell_type": "code",
   "execution_count": 8,
   "id": "80469709",
   "metadata": {
    "execution": {
     "iopub.execute_input": "2025-05-15T06:02:05.655517Z",
     "iopub.status.busy": "2025-05-15T06:02:05.655117Z",
     "iopub.status.idle": "2025-05-15T06:02:05.661671Z",
     "shell.execute_reply": "2025-05-15T06:02:05.660798Z"
    },
    "papermill": {
     "duration": 0.013743,
     "end_time": "2025-05-15T06:02:05.663265",
     "exception": false,
     "start_time": "2025-05-15T06:02:05.649522",
     "status": "completed"
    },
    "tags": []
   },
   "outputs": [
    {
     "data": {
      "text/plain": [
       "Index(['model_a', 'model_b', 'prompt', 'response_a', 'response_b',\n",
       "       'winner_model_a', 'winner_model_b', 'winner_tie'],\n",
       "      dtype='object')"
      ]
     },
     "execution_count": 8,
     "metadata": {},
     "output_type": "execute_result"
    }
   ],
   "source": [
    "train.columns"
   ]
  },
  {
   "cell_type": "code",
   "execution_count": 9,
   "id": "487223de",
   "metadata": {
    "execution": {
     "iopub.execute_input": "2025-05-15T06:02:05.673596Z",
     "iopub.status.busy": "2025-05-15T06:02:05.673290Z",
     "iopub.status.idle": "2025-05-15T06:02:05.678964Z",
     "shell.execute_reply": "2025-05-15T06:02:05.678223Z"
    },
    "papermill": {
     "duration": 0.012427,
     "end_time": "2025-05-15T06:02:05.680280",
     "exception": false,
     "start_time": "2025-05-15T06:02:05.667853",
     "status": "completed"
    },
    "tags": []
   },
   "outputs": [
    {
     "data": {
      "text/plain": [
       "Index(['prompt', 'response_a', 'response_b'], dtype='object')"
      ]
     },
     "execution_count": 9,
     "metadata": {},
     "output_type": "execute_result"
    }
   ],
   "source": [
    "test.columns"
   ]
  },
  {
   "cell_type": "code",
   "execution_count": 10,
   "id": "ba628fa6",
   "metadata": {
    "execution": {
     "iopub.execute_input": "2025-05-15T06:02:05.691046Z",
     "iopub.status.busy": "2025-05-15T06:02:05.690683Z",
     "iopub.status.idle": "2025-05-15T06:02:06.053506Z",
     "shell.execute_reply": "2025-05-15T06:02:06.052619Z"
    },
    "papermill": {
     "duration": 0.369983,
     "end_time": "2025-05-15T06:02:06.055193",
     "exception": false,
     "start_time": "2025-05-15T06:02:05.685210",
     "status": "completed"
    },
    "tags": []
   },
   "outputs": [],
   "source": [
    "train['combined_text'] = (\n",
    "    train[\"prompt\"] + \" \" + \n",
    "    train[\"response_a\"] + \" \" + \n",
    "    train[\"response_b\"]\n",
    ")\n",
    "\n",
    "test['combined_text'] = (\n",
    "    test[\"prompt\"] + \" \" + \n",
    "    test[\"response_a\"] + \" \" + \n",
    "    test[\"response_b\"]\n",
    ")"
   ]
  },
  {
   "cell_type": "code",
   "execution_count": 11,
   "id": "647f3920",
   "metadata": {
    "execution": {
     "iopub.execute_input": "2025-05-15T06:02:06.066400Z",
     "iopub.status.busy": "2025-05-15T06:02:06.066043Z",
     "iopub.status.idle": "2025-05-15T06:02:09.941371Z",
     "shell.execute_reply": "2025-05-15T06:02:09.940353Z"
    },
    "papermill": {
     "duration": 3.883047,
     "end_time": "2025-05-15T06:02:09.943081",
     "exception": false,
     "start_time": "2025-05-15T06:02:06.060034",
     "status": "completed"
    },
    "tags": []
   },
   "outputs": [],
   "source": [
    "pat = f\"[{string.punctuation}]\"\n",
    "\n",
    "train['combined_text'] = (\n",
    "    train['combined_text']\n",
    "    .str.lower()\n",
    "    .str.replace(pat, \"\", regex=True)\n",
    ")\n",
    "\n",
    "test['combined_text'] = (\n",
    "    test['combined_text']\n",
    "    .str.lower()\n",
    "    .str.replace(pat, \"\", regex=True)\n",
    ")"
   ]
  },
  {
   "cell_type": "code",
   "execution_count": 12,
   "id": "dc81b07e",
   "metadata": {
    "execution": {
     "iopub.execute_input": "2025-05-15T06:02:09.953746Z",
     "iopub.status.busy": "2025-05-15T06:02:09.953427Z",
     "iopub.status.idle": "2025-05-15T06:02:09.958294Z",
     "shell.execute_reply": "2025-05-15T06:02:09.957401Z"
    },
    "papermill": {
     "duration": 0.011954,
     "end_time": "2025-05-15T06:02:09.959787",
     "exception": false,
     "start_time": "2025-05-15T06:02:09.947833",
     "status": "completed"
    },
    "tags": []
   },
   "outputs": [],
   "source": [
    "def target_row(row):\n",
    "    if row['winner_model_a'] == 1:\n",
    "        return 0\n",
    "\n",
    "    elif row['winner_model_b'] == 1:\n",
    "        return 1\n",
    "\n",
    "    else:\n",
    "        return 2\n",
    "    "
   ]
  },
  {
   "cell_type": "code",
   "execution_count": 13,
   "id": "7e5af2bd",
   "metadata": {
    "execution": {
     "iopub.execute_input": "2025-05-15T06:02:09.970596Z",
     "iopub.status.busy": "2025-05-15T06:02:09.970284Z",
     "iopub.status.idle": "2025-05-15T06:02:09.985126Z",
     "shell.execute_reply": "2025-05-15T06:02:09.983977Z"
    },
    "papermill": {
     "duration": 0.022119,
     "end_time": "2025-05-15T06:02:09.986786",
     "exception": false,
     "start_time": "2025-05-15T06:02:09.964667",
     "status": "completed"
    },
    "tags": []
   },
   "outputs": [
    {
     "data": {
      "text/html": [
       "<div>\n",
       "<style scoped>\n",
       "    .dataframe tbody tr th:only-of-type {\n",
       "        vertical-align: middle;\n",
       "    }\n",
       "\n",
       "    .dataframe tbody tr th {\n",
       "        vertical-align: top;\n",
       "    }\n",
       "\n",
       "    .dataframe thead th {\n",
       "        text-align: right;\n",
       "    }\n",
       "</style>\n",
       "<table border=\"1\" class=\"dataframe\">\n",
       "  <thead>\n",
       "    <tr style=\"text-align: right;\">\n",
       "      <th></th>\n",
       "      <th>model_a</th>\n",
       "      <th>model_b</th>\n",
       "      <th>prompt</th>\n",
       "      <th>response_a</th>\n",
       "      <th>response_b</th>\n",
       "      <th>winner_model_a</th>\n",
       "      <th>winner_model_b</th>\n",
       "      <th>winner_tie</th>\n",
       "      <th>combined_text</th>\n",
       "    </tr>\n",
       "    <tr>\n",
       "      <th>id</th>\n",
       "      <th></th>\n",
       "      <th></th>\n",
       "      <th></th>\n",
       "      <th></th>\n",
       "      <th></th>\n",
       "      <th></th>\n",
       "      <th></th>\n",
       "      <th></th>\n",
       "      <th></th>\n",
       "    </tr>\n",
       "  </thead>\n",
       "  <tbody>\n",
       "    <tr>\n",
       "      <th>30192</th>\n",
       "      <td>gpt-4-1106-preview</td>\n",
       "      <td>gpt-4-0613</td>\n",
       "      <td>[\"Is it morally right to try to have a certain...</td>\n",
       "      <td>[\"The question of whether it is morally right ...</td>\n",
       "      <td>[\"As an AI, I don't have personal beliefs or o...</td>\n",
       "      <td>1</td>\n",
       "      <td>0</td>\n",
       "      <td>0</td>\n",
       "      <td>is it morally right to try to have a certain p...</td>\n",
       "    </tr>\n",
       "    <tr>\n",
       "      <th>53567</th>\n",
       "      <td>koala-13b</td>\n",
       "      <td>gpt-4-0613</td>\n",
       "      <td>[\"What is the difference between marriage lice...</td>\n",
       "      <td>[\"A marriage license is a legal document that ...</td>\n",
       "      <td>[\"A marriage license and a marriage certificat...</td>\n",
       "      <td>0</td>\n",
       "      <td>1</td>\n",
       "      <td>0</td>\n",
       "      <td>what is the difference between marriage licens...</td>\n",
       "    </tr>\n",
       "    <tr>\n",
       "      <th>65089</th>\n",
       "      <td>gpt-3.5-turbo-0613</td>\n",
       "      <td>mistral-medium</td>\n",
       "      <td>[\"explain function calling. how would you call...</td>\n",
       "      <td>[\"Function calling is the process of invoking ...</td>\n",
       "      <td>[\"Function calling is the process of invoking ...</td>\n",
       "      <td>0</td>\n",
       "      <td>0</td>\n",
       "      <td>1</td>\n",
       "      <td>explain function calling how would you call a ...</td>\n",
       "    </tr>\n",
       "    <tr>\n",
       "      <th>96401</th>\n",
       "      <td>llama-2-13b-chat</td>\n",
       "      <td>mistral-7b-instruct</td>\n",
       "      <td>[\"How can I create a test set for a very rare ...</td>\n",
       "      <td>[\"Creating a test set for a very rare category...</td>\n",
       "      <td>[\"When building a classifier for a very rare c...</td>\n",
       "      <td>1</td>\n",
       "      <td>0</td>\n",
       "      <td>0</td>\n",
       "      <td>how can i create a test set for a very rare ca...</td>\n",
       "    </tr>\n",
       "    <tr>\n",
       "      <th>198779</th>\n",
       "      <td>koala-13b</td>\n",
       "      <td>gpt-3.5-turbo-0314</td>\n",
       "      <td>[\"What is the best way to travel from Tel-Aviv...</td>\n",
       "      <td>[\"The best way to travel from Tel Aviv to Jeru...</td>\n",
       "      <td>[\"The best way to travel from Tel-Aviv to Jeru...</td>\n",
       "      <td>0</td>\n",
       "      <td>1</td>\n",
       "      <td>0</td>\n",
       "      <td>what is the best way to travel from telaviv to...</td>\n",
       "    </tr>\n",
       "  </tbody>\n",
       "</table>\n",
       "</div>"
      ],
      "text/plain": [
       "                   model_a              model_b  \\\n",
       "id                                                \n",
       "30192   gpt-4-1106-preview           gpt-4-0613   \n",
       "53567            koala-13b           gpt-4-0613   \n",
       "65089   gpt-3.5-turbo-0613       mistral-medium   \n",
       "96401     llama-2-13b-chat  mistral-7b-instruct   \n",
       "198779           koala-13b   gpt-3.5-turbo-0314   \n",
       "\n",
       "                                                   prompt  \\\n",
       "id                                                          \n",
       "30192   [\"Is it morally right to try to have a certain...   \n",
       "53567   [\"What is the difference between marriage lice...   \n",
       "65089   [\"explain function calling. how would you call...   \n",
       "96401   [\"How can I create a test set for a very rare ...   \n",
       "198779  [\"What is the best way to travel from Tel-Aviv...   \n",
       "\n",
       "                                               response_a  \\\n",
       "id                                                          \n",
       "30192   [\"The question of whether it is morally right ...   \n",
       "53567   [\"A marriage license is a legal document that ...   \n",
       "65089   [\"Function calling is the process of invoking ...   \n",
       "96401   [\"Creating a test set for a very rare category...   \n",
       "198779  [\"The best way to travel from Tel Aviv to Jeru...   \n",
       "\n",
       "                                               response_b  winner_model_a  \\\n",
       "id                                                                          \n",
       "30192   [\"As an AI, I don't have personal beliefs or o...               1   \n",
       "53567   [\"A marriage license and a marriage certificat...               0   \n",
       "65089   [\"Function calling is the process of invoking ...               0   \n",
       "96401   [\"When building a classifier for a very rare c...               1   \n",
       "198779  [\"The best way to travel from Tel-Aviv to Jeru...               0   \n",
       "\n",
       "        winner_model_b  winner_tie  \\\n",
       "id                                   \n",
       "30192                0           0   \n",
       "53567                1           0   \n",
       "65089                0           1   \n",
       "96401                0           0   \n",
       "198779               1           0   \n",
       "\n",
       "                                            combined_text  \n",
       "id                                                         \n",
       "30192   is it morally right to try to have a certain p...  \n",
       "53567   what is the difference between marriage licens...  \n",
       "65089   explain function calling how would you call a ...  \n",
       "96401   how can i create a test set for a very rare ca...  \n",
       "198779  what is the best way to travel from telaviv to...  "
      ]
     },
     "execution_count": 13,
     "metadata": {},
     "output_type": "execute_result"
    }
   ],
   "source": [
    "train.head()"
   ]
  },
  {
   "cell_type": "code",
   "execution_count": 14,
   "id": "292f5705",
   "metadata": {
    "execution": {
     "iopub.execute_input": "2025-05-15T06:02:09.998737Z",
     "iopub.status.busy": "2025-05-15T06:02:09.998415Z",
     "iopub.status.idle": "2025-05-15T06:02:10.397516Z",
     "shell.execute_reply": "2025-05-15T06:02:10.396461Z"
    },
    "papermill": {
     "duration": 0.406994,
     "end_time": "2025-05-15T06:02:10.399432",
     "exception": false,
     "start_time": "2025-05-15T06:02:09.992438",
     "status": "completed"
    },
    "tags": []
   },
   "outputs": [],
   "source": [
    "X = train['combined_text']\n",
    "y = train.apply(target_row, axis=1).astype('float32')\n",
    "\n",
    "X_test = test['combined_text']"
   ]
  },
  {
   "cell_type": "code",
   "execution_count": 15,
   "id": "bd23aa50",
   "metadata": {
    "execution": {
     "iopub.execute_input": "2025-05-15T06:02:10.410665Z",
     "iopub.status.busy": "2025-05-15T06:02:10.410329Z",
     "iopub.status.idle": "2025-05-15T06:02:31.168949Z",
     "shell.execute_reply": "2025-05-15T06:02:31.168104Z"
    },
    "papermill": {
     "duration": 20.766219,
     "end_time": "2025-05-15T06:02:31.170680",
     "exception": false,
     "start_time": "2025-05-15T06:02:10.404461",
     "status": "completed"
    },
    "tags": []
   },
   "outputs": [],
   "source": [
    "from sklearn.model_selection import train_test_split\n",
    "from sklearn.feature_extraction.text import TfidfVectorizer, CountVectorizer\n",
    "\n",
    "X_train, X_valid, y_train, y_valid = train_test_split(X, y, train_size=0.75, random_state=20, stratify=y)\n",
    "\n",
    "vect = TfidfVectorizer()\n",
    "X_train = vect.fit_transform(X_train).astype('float32')\n",
    "X_valid = vect.transform(X_valid).astype('float32')\n",
    "X_test = vect.transform(X_test).astype('float32')\n"
   ]
  },
  {
   "cell_type": "code",
   "execution_count": 16,
   "id": "e05258d3",
   "metadata": {
    "execution": {
     "iopub.execute_input": "2025-05-15T06:02:31.182004Z",
     "iopub.status.busy": "2025-05-15T06:02:31.181641Z",
     "iopub.status.idle": "2025-05-15T06:05:45.458994Z",
     "shell.execute_reply": "2025-05-15T06:05:45.457842Z"
    },
    "papermill": {
     "duration": 194.285459,
     "end_time": "2025-05-15T06:05:45.461439",
     "exception": false,
     "start_time": "2025-05-15T06:02:31.175980",
     "status": "completed"
    },
    "tags": []
   },
   "outputs": [
    {
     "name": "stdout",
     "output_type": "stream",
     "text": [
      "Training until validation scores don't improve for 50 rounds\n",
      "Early stopping, best iteration is:\n",
      "[84]\tvalid_0's multi_logloss: 1.08146\n"
     ]
    }
   ],
   "source": [
    "from lightgbm import LGBMClassifier\n",
    "from lightgbm import early_stopping\n",
    "from sklearn.metrics import log_loss\n",
    "\n",
    "lgm = LGBMClassifier(\n",
    "    objective='multiclass',\n",
    "    numclass=3,\n",
    "    n_estimators=1000,\n",
    "    learning_rate=0.05,\n",
    "    random_state=20,\n",
    "    max_depth=10, \n",
    "    reg_alpha=2.83707, \n",
    "    colsample_bytree=0.89332, \n",
    "    verbose=-1\n",
    ").fit(X_train, y_train, eval_set=[(X_valid, y_valid)], callbacks=[early_stopping(stopping_rounds=50)])"
   ]
  },
  {
   "cell_type": "code",
   "execution_count": 17,
   "id": "e14951e0",
   "metadata": {
    "execution": {
     "iopub.execute_input": "2025-05-15T06:05:45.475211Z",
     "iopub.status.busy": "2025-05-15T06:05:45.474284Z",
     "iopub.status.idle": "2025-05-15T06:05:46.728819Z",
     "shell.execute_reply": "2025-05-15T06:05:46.727718Z"
    },
    "papermill": {
     "duration": 1.263552,
     "end_time": "2025-05-15T06:05:46.730481",
     "exception": false,
     "start_time": "2025-05-15T06:05:45.466929",
     "status": "completed"
    },
    "tags": []
   },
   "outputs": [
    {
     "name": "stdout",
     "output_type": "stream",
     "text": [
      "Validation Log Loss: 1.0814565950131056\n"
     ]
    }
   ],
   "source": [
    "# Make predictions\n",
    "y_pred_valid = lgm.predict_proba(X_valid)\n",
    "y_pred_test = lgm.predict_proba(X_test)\n",
    "\n",
    "# Calculate log loss (if needed)\n",
    "valid_loss = log_loss(y_valid, y_pred_valid)\n",
    "print(f\"Validation Log Loss: {valid_loss}\")"
   ]
  },
  {
   "cell_type": "code",
   "execution_count": 18,
   "id": "9205b845",
   "metadata": {
    "execution": {
     "iopub.execute_input": "2025-05-15T06:05:46.742288Z",
     "iopub.status.busy": "2025-05-15T06:05:46.741809Z",
     "iopub.status.idle": "2025-05-15T06:05:46.770128Z",
     "shell.execute_reply": "2025-05-15T06:05:46.768726Z"
    },
    "papermill": {
     "duration": 0.036081,
     "end_time": "2025-05-15T06:05:46.771679",
     "exception": false,
     "start_time": "2025-05-15T06:05:46.735598",
     "status": "completed"
    },
    "tags": []
   },
   "outputs": [
    {
     "name": "stdout",
     "output_type": "stream",
     "text": [
      "        id  winner_model_a  winner_model_b  winner_tie\n",
      "0   136060        0.278001        0.278345    0.443654\n",
      "1   211333        0.362966        0.373913    0.263121\n",
      "2  1233961        0.341088        0.336291    0.322621\n"
     ]
    }
   ],
   "source": [
    "sub = pd.read_csv('/kaggle/input/llm-classification-finetuning/sample_submission.csv')\n",
    "sub['winner_model_a'] = y_pred_test[:, 0]\n",
    "sub['winner_model_b'] = y_pred_test[:, 1]\n",
    "sub['winner_tie'] = y_pred_test[:, 2]\n",
    "sub.to_csv('submission.csv', index=False)\n",
    "print(sub.head(10))"
   ]
  }
 ],
 "metadata": {
  "kaggle": {
   "accelerator": "none",
   "dataSources": [
    {
     "databundleVersionId": 9809560,
     "sourceId": 86518,
     "sourceType": "competition"
    }
   ],
   "dockerImageVersionId": 31012,
   "isGpuEnabled": false,
   "isInternetEnabled": false,
   "language": "python",
   "sourceType": "notebook"
  },
  "kernelspec": {
   "display_name": "Python 3",
   "language": "python",
   "name": "python3"
  },
  "language_info": {
   "codemirror_mode": {
    "name": "ipython",
    "version": 3
   },
   "file_extension": ".py",
   "mimetype": "text/x-python",
   "name": "python",
   "nbconvert_exporter": "python",
   "pygments_lexer": "ipython3",
   "version": "3.11.11"
  },
  "papermill": {
   "default_parameters": {},
   "duration": 255.984478,
   "end_time": "2025-05-15T06:05:49.507638",
   "environment_variables": {},
   "exception": null,
   "input_path": "__notebook__.ipynb",
   "output_path": "__notebook__.ipynb",
   "parameters": {},
   "start_time": "2025-05-15T06:01:33.523160",
   "version": "2.6.0"
  }
 },
 "nbformat": 4,
 "nbformat_minor": 5
}
